{
 "cells": [
  {
   "cell_type": "markdown",
   "metadata": {},
   "source": [
    "## [Home Loan Prediction](https://datahack.analyticsvidhya.com/contest/practice-problem-loan-prediction-iii/#ProblemStatement)"
   ]
  },
  {
   "cell_type": "markdown",
   "metadata": {},
   "source": [
    "## Import libraries & read data"
   ]
  },
  {
   "cell_type": "code",
   "execution_count": 1,
   "metadata": {},
   "outputs": [],
   "source": [
    "import pandas as pd\n",
    "import numpy as np\n",
    "import seaborn as sns\n",
    "import matplotlib.pyplot as plt\n",
    "%matplotlib inline\n",
    "\n",
    "\n",
    "\n",
    "import warnings\n",
    "warnings.filterwarnings('ignore')\n",
    "warnings.filterwarnings(action='ignore',category=DeprecationWarning)\n",
    "warnings.filterwarnings(action='ignore',category=FutureWarning)"
   ]
  },
  {
   "cell_type": "code",
   "execution_count": 2,
   "metadata": {},
   "outputs": [],
   "source": [
    "# read datasets \n",
    "train = pd.read_csv('train_ctrUa4K.csv')  \n",
    "test = pd.read_csv('test_lAUu6dG.csv')"
   ]
  },
  {
   "cell_type": "code",
   "execution_count": 3,
   "metadata": {},
   "outputs": [],
   "source": [
    "# # drop duplicate rows, if any - no duplicates found\n",
    "# print(train.shape)\n",
    "# train =train.drop_duplicates(subset = None, keep = 'first')\n",
    "# print(train.shape)\n",
    "\n",
    "# print(test.shape)\n",
    "# test =test.drop_duplicates(subset = None, keep = 'first')\n",
    "# print(test.shape)"
   ]
  },
  {
   "cell_type": "code",
   "execution_count": 4,
   "metadata": {},
   "outputs": [
    {
     "data": {
      "text/html": [
       "<div>\n",
       "<style scoped>\n",
       "    .dataframe tbody tr th:only-of-type {\n",
       "        vertical-align: middle;\n",
       "    }\n",
       "\n",
       "    .dataframe tbody tr th {\n",
       "        vertical-align: top;\n",
       "    }\n",
       "\n",
       "    .dataframe thead th {\n",
       "        text-align: right;\n",
       "    }\n",
       "</style>\n",
       "<table border=\"1\" class=\"dataframe\">\n",
       "  <thead>\n",
       "    <tr style=\"text-align: right;\">\n",
       "      <th></th>\n",
       "      <th>Loan_ID</th>\n",
       "      <th>Gender</th>\n",
       "      <th>Married</th>\n",
       "      <th>Dependents</th>\n",
       "      <th>Education</th>\n",
       "      <th>Self_Employed</th>\n",
       "      <th>ApplicantIncome</th>\n",
       "      <th>CoapplicantIncome</th>\n",
       "      <th>LoanAmount</th>\n",
       "      <th>Loan_Amount_Term</th>\n",
       "      <th>Credit_History</th>\n",
       "      <th>Property_Area</th>\n",
       "      <th>Loan_Status</th>\n",
       "    </tr>\n",
       "  </thead>\n",
       "  <tbody>\n",
       "    <tr>\n",
       "      <th>0</th>\n",
       "      <td>LP001002</td>\n",
       "      <td>Male</td>\n",
       "      <td>No</td>\n",
       "      <td>0</td>\n",
       "      <td>Graduate</td>\n",
       "      <td>No</td>\n",
       "      <td>5849</td>\n",
       "      <td>0.0</td>\n",
       "      <td>NaN</td>\n",
       "      <td>360.0</td>\n",
       "      <td>1.0</td>\n",
       "      <td>Urban</td>\n",
       "      <td>Y</td>\n",
       "    </tr>\n",
       "    <tr>\n",
       "      <th>1</th>\n",
       "      <td>LP001003</td>\n",
       "      <td>Male</td>\n",
       "      <td>Yes</td>\n",
       "      <td>1</td>\n",
       "      <td>Graduate</td>\n",
       "      <td>No</td>\n",
       "      <td>4583</td>\n",
       "      <td>1508.0</td>\n",
       "      <td>128.0</td>\n",
       "      <td>360.0</td>\n",
       "      <td>1.0</td>\n",
       "      <td>Rural</td>\n",
       "      <td>N</td>\n",
       "    </tr>\n",
       "    <tr>\n",
       "      <th>2</th>\n",
       "      <td>LP001005</td>\n",
       "      <td>Male</td>\n",
       "      <td>Yes</td>\n",
       "      <td>0</td>\n",
       "      <td>Graduate</td>\n",
       "      <td>Yes</td>\n",
       "      <td>3000</td>\n",
       "      <td>0.0</td>\n",
       "      <td>66.0</td>\n",
       "      <td>360.0</td>\n",
       "      <td>1.0</td>\n",
       "      <td>Urban</td>\n",
       "      <td>Y</td>\n",
       "    </tr>\n",
       "    <tr>\n",
       "      <th>3</th>\n",
       "      <td>LP001006</td>\n",
       "      <td>Male</td>\n",
       "      <td>Yes</td>\n",
       "      <td>0</td>\n",
       "      <td>Not Graduate</td>\n",
       "      <td>No</td>\n",
       "      <td>2583</td>\n",
       "      <td>2358.0</td>\n",
       "      <td>120.0</td>\n",
       "      <td>360.0</td>\n",
       "      <td>1.0</td>\n",
       "      <td>Urban</td>\n",
       "      <td>Y</td>\n",
       "    </tr>\n",
       "    <tr>\n",
       "      <th>4</th>\n",
       "      <td>LP001008</td>\n",
       "      <td>Male</td>\n",
       "      <td>No</td>\n",
       "      <td>0</td>\n",
       "      <td>Graduate</td>\n",
       "      <td>No</td>\n",
       "      <td>6000</td>\n",
       "      <td>0.0</td>\n",
       "      <td>141.0</td>\n",
       "      <td>360.0</td>\n",
       "      <td>1.0</td>\n",
       "      <td>Urban</td>\n",
       "      <td>Y</td>\n",
       "    </tr>\n",
       "  </tbody>\n",
       "</table>\n",
       "</div>"
      ],
      "text/plain": [
       "    Loan_ID Gender Married Dependents     Education Self_Employed  \\\n",
       "0  LP001002   Male      No          0      Graduate            No   \n",
       "1  LP001003   Male     Yes          1      Graduate            No   \n",
       "2  LP001005   Male     Yes          0      Graduate           Yes   \n",
       "3  LP001006   Male     Yes          0  Not Graduate            No   \n",
       "4  LP001008   Male      No          0      Graduate            No   \n",
       "\n",
       "   ApplicantIncome  CoapplicantIncome  LoanAmount  Loan_Amount_Term  \\\n",
       "0             5849                0.0         NaN             360.0   \n",
       "1             4583             1508.0       128.0             360.0   \n",
       "2             3000                0.0        66.0             360.0   \n",
       "3             2583             2358.0       120.0             360.0   \n",
       "4             6000                0.0       141.0             360.0   \n",
       "\n",
       "   Credit_History Property_Area Loan_Status  \n",
       "0             1.0         Urban           Y  \n",
       "1             1.0         Rural           N  \n",
       "2             1.0         Urban           Y  \n",
       "3             1.0         Urban           Y  \n",
       "4             1.0         Urban           Y  "
      ]
     },
     "execution_count": 4,
     "metadata": {},
     "output_type": "execute_result"
    }
   ],
   "source": [
    "train.head()"
   ]
  },
  {
   "cell_type": "markdown",
   "metadata": {},
   "source": [
    "## Missing value treatment"
   ]
  },
  {
   "cell_type": "code",
   "execution_count": 5,
   "metadata": {},
   "outputs": [
    {
     "name": "stdout",
     "output_type": "stream",
     "text": [
      "Loan_ID               0\n",
      "Gender               13\n",
      "Married               3\n",
      "Dependents           15\n",
      "Education             0\n",
      "Self_Employed        32\n",
      "ApplicantIncome       0\n",
      "CoapplicantIncome     0\n",
      "LoanAmount           22\n",
      "Loan_Amount_Term     14\n",
      "Credit_History       50\n",
      "Property_Area         0\n",
      "Loan_Status           0\n",
      "dtype: int64\n",
      "\n",
      "Loan_ID               0\n",
      "Gender               11\n",
      "Married               0\n",
      "Dependents           10\n",
      "Education             0\n",
      "Self_Employed        23\n",
      "ApplicantIncome       0\n",
      "CoapplicantIncome     0\n",
      "LoanAmount            5\n",
      "Loan_Amount_Term      6\n",
      "Credit_History       29\n",
      "Property_Area         0\n",
      "dtype: int64\n"
     ]
    }
   ],
   "source": [
    "# check for missing values in test + train dataset\n",
    "print(train.isnull().sum())\n",
    "print(\"\")\n",
    "print(test.isnull().sum())"
   ]
  },
  {
   "cell_type": "code",
   "execution_count": 6,
   "metadata": {},
   "outputs": [],
   "source": [
    "# compare test-train datasets ; similar values, can combine for missing value treatment\n",
    "#print(train.describe())\n",
    "#print(test.describe())"
   ]
  },
  {
   "cell_type": "code",
   "execution_count": 7,
   "metadata": {},
   "outputs": [],
   "source": [
    "#combine train and test for missing value treatment \n",
    "\n",
    "train['source'] = 'train'\n",
    "test['source'] = 'test'\n",
    "test['Loan_Status'] = np.nan # emply column for test dataset (we have to predict this)\n",
    "\n",
    "frames = [test,train]\n",
    "combined = pd.concat(frames, sort = False)"
   ]
  },
  {
   "cell_type": "code",
   "execution_count": 8,
   "metadata": {},
   "outputs": [
    {
     "name": "stdout",
     "output_type": "stream",
     "text": [
      "% Missing Values for each column :\n"
     ]
    },
    {
     "data": {
      "text/plain": [
       "Credit_History       8.1\n",
       "Self_Employed        5.6\n",
       "LoanAmount           2.8\n",
       "Dependents           2.5\n",
       "Gender               2.4\n",
       "Loan_Amount_Term     2.0\n",
       "Married              0.3\n",
       "source               0.0\n",
       "Property_Area        0.0\n",
       "CoapplicantIncome    0.0\n",
       "ApplicantIncome      0.0\n",
       "Education            0.0\n",
       "Loan_ID              0.0\n",
       "dtype: float64"
      ]
     },
     "execution_count": 8,
     "metadata": {},
     "output_type": "execute_result"
    }
   ],
   "source": [
    "# missing values as % of nrows\n",
    "per_missing = round((combined.drop('Loan_Status',axis =1).isnull().sum()/combined.drop('Loan_Status',axis = 1).isnull().count())*100,1)\n",
    "print('% Missing Values for each column :')\n",
    "per_missing.sort_values(ascending = False)"
   ]
  },
  {
   "cell_type": "code",
   "execution_count": 10,
   "metadata": {},
   "outputs": [
    {
     "name": "stdout",
     "output_type": "stream",
     "text": [
      "% Missing Values for each column :\n"
     ]
    },
    {
     "data": {
      "text/plain": [
       "source               0.0\n",
       "Property_Area        0.0\n",
       "Credit_History       0.0\n",
       "Loan_Amount_Term     0.0\n",
       "LoanAmount           0.0\n",
       "CoapplicantIncome    0.0\n",
       "ApplicantIncome      0.0\n",
       "Self_Employed        0.0\n",
       "Education            0.0\n",
       "Dependents           0.0\n",
       "Married              0.0\n",
       "Gender               0.0\n",
       "Loan_ID              0.0\n",
       "dtype: float64"
      ]
     },
     "execution_count": 10,
     "metadata": {},
     "output_type": "execute_result"
    }
   ],
   "source": [
    "# replace non-numeric with mode, replace numeric with median\n",
    "\n",
    "#median \n",
    "combined.loc[:,'Credit_History'].fillna(combined.loc[:,'Credit_History'].median(),inplace = True)\n",
    "combined.loc[:,'LoanAmount'].fillna(combined.loc[:,'LoanAmount'].median(),inplace = True)\n",
    "combined.loc[:,'Loan_Amount_Term'].fillna(combined.loc[:,'Loan_Amount_Term'].median(),inplace = True)\n",
    "\n",
    "#mode\n",
    "combined.loc[:,'Self_Employed'].fillna(combined.loc[:,'Self_Employed'].mode()[0],inplace = True)\n",
    "combined.loc[:,'Dependents'].fillna(combined.loc[:,'Dependents'].mode()[0],inplace = True)\n",
    "combined.loc[:,'Gender'].fillna(combined.loc[:,'Gender'].mode()[0],inplace = True)\n",
    "combined.loc[:,'Married'].fillna(combined.loc[:,'Married'].mode()[0],inplace = True)\n",
    "\n",
    "\n",
    "per_missing = round((combined.drop('Loan_Status',axis =1).isnull().sum()/combined.drop('Loan_Status',axis = 1).isnull().count())*100,1)\n",
    "print('% Missing Values for each column :')\n",
    "per_missing.sort_values(ascending = False)"
   ]
  },
  {
   "cell_type": "markdown",
   "metadata": {},
   "source": [
    "## EDA with Visuals\n",
    "### Plotting Loan Status vs Other Variables "
   ]
  },
  {
   "cell_type": "code",
   "execution_count": 10,
   "metadata": {},
   "outputs": [
    {
     "data": {
      "text/plain": [
       "(614, 14)"
      ]
     },
     "execution_count": 10,
     "metadata": {},
     "output_type": "execute_result"
    }
   ],
   "source": [
    "# separate train from combined for visualization\n",
    "train = combined.loc[combined.source == 'train'].copy() #add copy() to create copy instead of view\n",
    "\n",
    "train.shape"
   ]
  },
  {
   "cell_type": "markdown",
   "metadata": {},
   "source": [
    "### Categorical Variables"
   ]
  },
  {
   "cell_type": "code",
   "execution_count": 11,
   "metadata": {},
   "outputs": [],
   "source": [
    "# gender\n",
    "eda_gender_proportion = round(pd.crosstab(train.loc[:,'Gender'],train.loc[:,'Loan_Status']).apply(lambda r: r/r.sum(), axis=1)*100,1)\n",
    "\n",
    "# married\n",
    "eda_married_proportion = round(pd.crosstab(train.loc[:,'Married'],train.loc[:,'Loan_Status']).apply(lambda r: r/r.sum(), axis=1)*100,1)\n",
    "\n",
    "# dependents\n",
    "eda_dependents_proportion = round(pd.crosstab(train.loc[:,'Dependents'],train.loc[:,'Loan_Status']).apply(lambda r: r/r.sum(), axis=1)*100,1)\n",
    "\n",
    "# education\n",
    "eda_education_proportion = round(pd.crosstab(train.loc[:,'Education'],train.loc[:,'Loan_Status']).apply(lambda r: r/r.sum(), axis=1)*100,1)\n",
    "\n",
    "# employment\n",
    "eda_self_employed_proportion = round(pd.crosstab(train.loc[:,'Self_Employed'],train.loc[:,'Loan_Status']).apply(lambda r: r/r.sum(), axis=1)*100,1)\n",
    "\n",
    "# property\n",
    "eda_self_property_proportion = round(pd.crosstab(train.loc[:,'Property_Area'],train.loc[:,'Loan_Status']).apply(lambda r: r/r.sum(), axis=1)*100,1)\n",
    "\n",
    "# credit history\n",
    "eda_credit_proportion = round(pd.crosstab(train.loc[:,'Credit_History'],train.loc[:,'Loan_Status']).apply(lambda r: r/r.sum(), axis=1)*100,1)"
   ]
  },
  {
   "cell_type": "code",
   "execution_count": 12,
   "metadata": {},
   "outputs": [
    {
     "data": {
      "image/png": "[encoded data removed]",
      "text/plain": [
       "<Figure size 1080x1080 with 7 Axes>"
      ]
     },
     "metadata": {
      "needs_background": "light"
     },
     "output_type": "display_data"
    }
   ],
   "source": [
    "fig, axes = plt.subplots(3,3)\n",
    "fig.set_size_inches(15, 15)\n",
    "\n",
    "p1 = eda_gender_proportion.plot.bar(stacked=True,ax = axes[0,0])\n",
    "p2 = eda_married_proportion.plot.bar(stacked=True,ax = axes[0,1])\n",
    "p3 = eda_dependents_proportion.plot.bar(stacked=True,ax = axes[0,2])\n",
    "p4 = eda_education_proportion.plot.bar(stacked=True,ax = axes[1,0])\n",
    "p5 = eda_self_employed_proportion.plot.bar(stacked=True,ax = axes[1,1])\n",
    "p6 = eda_self_property_proportion.plot.bar(stacked=True,ax = axes[1,2])\n",
    "p7 = eda_credit_proportion.plot.bar(stacked=True,ax = axes[2,0])\n",
    "\n",
    "\n",
    "p1.get_legend().remove()\n",
    "p2.get_legend().remove()\n",
    "#p3.get_legend().remove() #modify p3 legend to mark loan_status outside the graph\n",
    "p4.get_legend().remove()\n",
    "p5.get_legend().remove()\n",
    "p6.get_legend().remove()\n",
    "p7.get_legend().remove()\n",
    "\n",
    "plt.subplots_adjust(hspace = 0.5)\n",
    "p3.legend(loc='center left', bbox_to_anchor=(1,0.8),title = 'Loan Status') #modifying p3 legend\n",
    "\n",
    "fig.delaxes(axes[2,1]) #deleting additional empty graph areas \n",
    "fig.delaxes(axes[2,2])"
   ]
  },
  {
   "cell_type": "markdown",
   "metadata": {},
   "source": [
    "### Continuous Variables"
   ]
  },
  {
   "cell_type": "code",
   "execution_count": 13,
   "metadata": {},
   "outputs": [
    {
     "data": {
      "text/plain": [
       "<seaborn.axisgrid.PairGrid at 0x2c9077e93c8>"
      ]
     },
     "execution_count": 13,
     "metadata": {},
     "output_type": "execute_result"
    },
    {
     "data": {
      "image/png": "[encoded data removed]",
      "text/plain": [
       "<Figure size 788.75x720 with 20 Axes>"
      ]
     },
     "metadata": {
      "needs_background": "light"
     },
     "output_type": "display_data"
    }
   ],
   "source": [
    "# pairplot between continuous variables ; hue_order set manually to match legend of above charts (categorical variable)\n",
    "# plots not very conclusive, so create bins and then visualize \n",
    "sns.pairplot(train.loc[:,['ApplicantIncome','CoapplicantIncome','LoanAmount','Loan_Amount_Term','Loan_Status']], hue = 'Loan_Status',hue_order = ['N','Y'])"
   ]
  },
  {
   "cell_type": "code",
   "execution_count": 14,
   "metadata": {},
   "outputs": [],
   "source": [
    "#create bins - bucket continuous variables, plot by Loan_Status \n",
    "\n",
    "# ApplicantIncome \n",
    "\n",
    "# train.loc[:,'ApplicantIncome'].max() #- 81000\n",
    "# train.loc[:,'ApplicantIncome'].min() #- 150\n",
    "# train.loc[:,'ApplicantIncome'].mean() #- 5403\n",
    "# train.loc[:,'ApplicantIncome'].median() #- 3813\n",
    "\n",
    "bins_applicant=[0,3000,6000,9000,81000]\n",
    "group_applicant=['Low','Medium','High','Very High']\n",
    "train['ApplicantIncome_bin']=pd.cut(train['ApplicantIncome'],bins_applicant,labels=group_applicant,include_lowest =True)\n",
    "\n",
    "\n",
    "# print(train.groupby('ApplicantIncome_bin')['Loan_ID'].count())\n",
    "# print(train.groupby('ApplicantIncome_bin')['ApplicantIncome'].mean())\n",
    "\n",
    "\n",
    "# # CoapplicantIncome \n",
    "\n",
    "# train.loc[:,'CoapplicantIncome'].max() #- 41667\n",
    "# train.loc[:,'CoapplicantIncome'].min() #- 0\n",
    "# train.loc[:,'CoapplicantIncome'].mean() #- 1621\n",
    "# train.loc[:,'CoapplicantIncome'].median() #- 1189\n",
    "\n",
    "bins_coapplicant=[0,1000,2000,4000,41667]\n",
    "group_coapplicant=['Low','Medium','High','Very High']\n",
    "train['CoapplicantIncome_bin']=pd.cut(train.loc[:,'CoapplicantIncome'],bins_coapplicant,labels=group_coapplicant,include_lowest = True)\n",
    "\n",
    "\n",
    "# print(train.groupby('CoapplicantIncome_bin')['Loan_ID'].count())\n",
    "# print(train.groupby('CoapplicantIncome_bin')['CoapplicantIncome'].mean())\n",
    "\n",
    "# # LoanAmount\n",
    "\n",
    "# train.loc[:,'LoanAmount'].max() #- 700\n",
    "# train.loc[:,'LoanAmount'].min() #- 9\n",
    "# train.loc[:,'LoanAmount'].mean() #- 146\n",
    "# train.loc[:,'LoanAmount'].median() #- 128\n",
    "\n",
    "bins_loan_amt=[0,100,200,700]\n",
    "group_loan_amt=['Low','Medium','High']\n",
    "train['LoanAmount_bin']=pd.cut(train.loc[:,'LoanAmount'],bins_loan_amt,labels=group_loan_amt,include_lowest = True)\n",
    "\n",
    "\n",
    "# print(train.groupby('LoanAmount_bin')['Loan_ID'].count())\n",
    "# print(train.groupby('LoanAmount_bin')['LoanAmount'].mean())\n",
    "\n",
    "\n",
    "# Loan_Amount_Term\n",
    "\n",
    "# train.loc[:,'Loan_Amount_Term'].max() #- 480\n",
    "# train.loc[:,'Loan_Amount_Term'].min() #- 12\n",
    "# train.loc[:,'Loan_Amount_Term'].mean() #- 342\n",
    "# train.loc[:,'Loan_Amount_Term'].median() #- 360\n",
    "\n",
    "bins_loan_term=[0,300,480]\n",
    "group_loan_term=['<300 months ','> 300 months']\n",
    "train['Loan_Amount_Term_bin']=pd.cut(train.loc[:,'Loan_Amount_Term'],bins_loan_term,labels=group_loan_term,include_lowest = True)\n",
    "\n",
    "\n",
    "# print(train.groupby('Loan_Amount_Term_bin')['Loan_ID'].count())\n",
    "# print(train.groupby('Loan_Amount_Term_bin')['Loan_Amount_Term'].mean())"
   ]
  },
  {
   "cell_type": "code",
   "execution_count": 15,
   "metadata": {},
   "outputs": [
    {
     "data": {
      "text/plain": [
       "<matplotlib.legend.Legend at 0x2c908c56828>"
      ]
     },
     "execution_count": 15,
     "metadata": {},
     "output_type": "execute_result"
    },
    {
     "data": {
      "image/png": "[encoded data removed]",
      "text/plain": [
       "<Figure size 1080x720 with 4 Axes>"
      ]
     },
     "metadata": {
      "needs_background": "light"
     },
     "output_type": "display_data"
    }
   ],
   "source": [
    "\n",
    "eda_applicant_proportion = round(pd.crosstab(train.loc[:,'ApplicantIncome_bin'],train.loc[:,'Loan_Status']).apply(lambda r: r/r.sum(), axis=1)*100,1)\n",
    "eda_coapplicant_proportion = round(pd.crosstab(train.loc[:,'CoapplicantIncome_bin'],train.loc[:,'Loan_Status']).apply(lambda r: r/r.sum(), axis=1)*100,1)\n",
    "eda_loan_amt_proportion = round(pd.crosstab(train.loc[:,'LoanAmount_bin'],train.loc[:,'Loan_Status']).apply(lambda r: r/r.sum(), axis=1)*100,1)\n",
    "eda_loan_term_proportion = round(pd.crosstab(train.loc[:,'Loan_Amount_Term_bin'],train.loc[:,'Loan_Status']).apply(lambda r: r/r.sum(), axis=1)*100,1)\n",
    "\n",
    "# print(eda_applicant_proportion)\n",
    "# print(eda_coapplicant_proportion)\n",
    "# print(eda_loan_amt_proportion)\n",
    "# print(eda_loan_term_proportion)\n",
    "\n",
    "\n",
    "fig, axes = plt.subplots(2,2)\n",
    "fig.set_size_inches(15, 10)\n",
    "\n",
    "p1 = eda_applicant_proportion.plot.bar(stacked=True,ax = axes[0,0])\n",
    "p2 = eda_coapplicant_proportion.plot.bar(stacked=True,ax = axes[0,1])\n",
    "p3 = eda_loan_amt_proportion.plot.bar(stacked=True,ax = axes[1,0])\n",
    "p4 = eda_loan_term_proportion.plot.bar(stacked=True,ax = axes[1,1])\n",
    "\n",
    "\n",
    "p1.get_legend().remove()\n",
    "p2.get_legend().remove() #modify p2 legend to mark loan_status outside the graph\n",
    "p3.get_legend().remove() \n",
    "p4.get_legend().remove()\n",
    "\n",
    "plt.subplots_adjust(hspace = 0.5)\n",
    "p2.legend(loc='center left', bbox_to_anchor=(1,0.8),title = 'Loan Status') #modifying p2 legend"
   ]
  },
  {
   "cell_type": "code",
   "execution_count": 16,
   "metadata": {},
   "outputs": [
    {
     "data": {
      "image/png": "[encoded data removed]",
      "text/plain": [
       "<Figure size 1080x720 with 4 Axes>"
      ]
     },
     "metadata": {
      "needs_background": "light"
     },
     "output_type": "display_data"
    }
   ],
   "source": [
    "# check data skewness \n",
    "\n",
    "fig, axes = plt.subplots(2,2)\n",
    "fig.set_size_inches(15, 10)\n",
    "\n",
    "cp1 = sns.distplot(train.loc[:,'ApplicantIncome'],ax = axes[0,0],kde = False)\n",
    "cp2 = sns.distplot(train.loc[:,'CoapplicantIncome'],ax = axes[0,1],kde = False)\n",
    "cp3 = sns.distplot(train.loc[:,'LoanAmount'],ax = axes[1,0],kde = False)\n",
    "cp4 = sns.distplot(train.loc[:,'Loan_Amount_Term'], ax = axes[1,1],kde = False)\n",
    "\n",
    "plt.subplots_adjust(hspace = 0.5)"
   ]
  },
  {
   "cell_type": "code",
   "execution_count": 17,
   "metadata": {},
   "outputs": [
    {
     "name": "stdout",
     "output_type": "stream",
     "text": [
      "Proportion of entries where Coapplicant Income is zero: 44.5 %\n"
     ]
    }
   ],
   "source": [
    "# CoapplicantIncome has a lot of zeroes, check proportion\n",
    "print('Proportion of entries where Coapplicant Income is zero:',round(train.loc[:,'CoapplicantIncome'][train.CoapplicantIncome==0].count()/train.loc[:,'CoapplicantIncome'].count()*100,1),'%')"
   ]
  },
  {
   "cell_type": "markdown",
   "metadata": {},
   "source": [
    "## Feature Engineering \n",
    "#### It is done on imputed combined dataset so that we don't have to repeat for test/train individually -> has its drawbacks, but we'll keep it simple for this problem"
   ]
  },
  {
   "cell_type": "code",
   "execution_count": 11,
   "metadata": {},
   "outputs": [],
   "source": [
    "# Feature 1 \n",
    "#Total Household Income = Applicant Income + CoApplicant Income \n",
    "combined['TotalIncome'] = combined['ApplicantIncome'] + combined['CoapplicantIncome']"
   ]
  },
  {
   "cell_type": "code",
   "execution_count": 12,
   "metadata": {},
   "outputs": [
    {
     "data": {
      "text/plain": [
       "0     9.5040\n",
       "1    10.8864\n",
       "2    17.9712\n",
       "3     8.6400\n",
       "4     6.7392\n",
       "Name: EMI, dtype: float64"
      ]
     },
     "execution_count": 12,
     "metadata": {},
     "output_type": "execute_result"
    }
   ],
   "source": [
    "# Feature 2\n",
    "# EMI : [P x R x (1+R)^N]/[(1+R)^N-1] ; assume 8% p.a rate of interest \n",
    "\n",
    "P = combined.loc[:,'LoanAmount']\n",
    "R = 0.08\n",
    "N = combined.loc[:,'Loan_Amount_Term']\n",
    "\n",
    "combined['EMI'] = (P*R*(1+R)**N)/((1+R)**(N-1))\n",
    "\n",
    "combined['EMI'].head()"
   ]
  },
  {
   "cell_type": "code",
   "execution_count": 13,
   "metadata": {},
   "outputs": [],
   "source": [
    "# Feature 3\n",
    "# Loan Amount to Income Ratio\n",
    "combined['Loan_to_income'] = combined.loc[:,'LoanAmount']/combined.loc[:,'TotalIncome']"
   ]
  },
  {
   "cell_type": "code",
   "execution_count": 14,
   "metadata": {},
   "outputs": [],
   "source": [
    "# drop extra columns \n",
    "combined = combined.drop(['Loan_ID','ApplicantIncome','CoapplicantIncome','Loan_Amount_Term'],axis = 1)"
   ]
  },
  {
   "cell_type": "markdown",
   "metadata": {},
   "source": [
    "### One Hot Encoding for categorical variables"
   ]
  },
  {
   "cell_type": "code",
   "execution_count": 42,
   "metadata": {},
   "outputs": [
    {
     "name": "stdout",
     "output_type": "stream",
     "text": [
      "<class 'pandas.core.frame.DataFrame'>\n",
      "Int64Index: 981 entries, 0 to 613\n",
      "Data columns (total 13 columns):\n",
      "Gender            981 non-null object\n",
      "Married           981 non-null object\n",
      "Dependents        981 non-null object\n",
      "Education         981 non-null object\n",
      "Self_Employed     981 non-null object\n",
      "LoanAmount        981 non-null float64\n",
      "Credit_History    981 non-null float64\n",
      "Property_Area     981 non-null object\n",
      "source            981 non-null int64\n",
      "Loan_Status       614 non-null float64\n",
      "TotalIncome       981 non-null float64\n",
      "EMI               981 non-null float64\n",
      "Loan_to_income    981 non-null float64\n",
      "dtypes: float64(6), int64(1), object(6)\n",
      "memory usage: 107.3+ KB\n"
     ]
    }
   ],
   "source": [
    "# convert Loan_Status, Source into numeric before applying encoding\n",
    "\n",
    "combined['Loan_Status'].replace('Y',1,inplace = True)\n",
    "combined['Loan_Status'].replace('N',0,inplace = True)\n",
    "\n",
    "combined['source'].replace('train',0,inplace = True)\n",
    "combined['source'].replace('test',1,inplace = True)\n",
    "\n",
    "combined.info()"
   ]
  },
  {
   "cell_type": "code",
   "execution_count": 71,
   "metadata": {},
   "outputs": [],
   "source": [
    "# one hot encoding \n",
    "combined_onehot = pd.get_dummies(combined)\n",
    "\n",
    "# we only need n-1 columns ; for example, if there are two genders, M & F, if Gender_Male column is 1, we don't need another Gender_Female column as it will always be zero for this record\n",
    "# drop redundant one hot encoded columns \n",
    "\n",
    "combined_onehot = combined_onehot.drop(['Gender_Male','Married_No','Dependents_3+','Education_Not Graduate','Self_Employed_Yes','Property_Area_Urban'],axis = 1)\n"
   ]
  },
  {
   "cell_type": "code",
   "execution_count": 26,
   "metadata": {},
   "outputs": [
    {
     "data": {
      "text/html": [
       "<div>\n",
       "<style scoped>\n",
       "    .dataframe tbody tr th:only-of-type {\n",
       "        vertical-align: middle;\n",
       "    }\n",
       "\n",
       "    .dataframe tbody tr th {\n",
       "        vertical-align: top;\n",
       "    }\n",
       "\n",
       "    .dataframe thead th {\n",
       "        text-align: right;\n",
       "    }\n",
       "</style>\n",
       "<table border=\"1\" class=\"dataframe\">\n",
       "  <thead>\n",
       "    <tr style=\"text-align: right;\">\n",
       "      <th></th>\n",
       "      <th>LoanAmount</th>\n",
       "      <th>Credit_History</th>\n",
       "      <th>source</th>\n",
       "      <th>Loan_Status</th>\n",
       "      <th>TotalIncome</th>\n",
       "      <th>EMI</th>\n",
       "      <th>Loan_to_income</th>\n",
       "      <th>Gender_Female</th>\n",
       "      <th>Married_Yes</th>\n",
       "      <th>Dependents_0</th>\n",
       "      <th>Dependents_1</th>\n",
       "      <th>Dependents_2</th>\n",
       "      <th>Education_Graduate</th>\n",
       "      <th>Self_Employed_No</th>\n",
       "      <th>Property_Area_Rural</th>\n",
       "      <th>Property_Area_Semiurban</th>\n",
       "    </tr>\n",
       "  </thead>\n",
       "  <tbody>\n",
       "    <tr>\n",
       "      <th>0</th>\n",
       "      <td>110.0</td>\n",
       "      <td>1.0</td>\n",
       "      <td>1</td>\n",
       "      <td>NaN</td>\n",
       "      <td>5720.0</td>\n",
       "      <td>9.5040</td>\n",
       "      <td>0.019231</td>\n",
       "      <td>0</td>\n",
       "      <td>1</td>\n",
       "      <td>1</td>\n",
       "      <td>0</td>\n",
       "      <td>0</td>\n",
       "      <td>1</td>\n",
       "      <td>1</td>\n",
       "      <td>0</td>\n",
       "      <td>0</td>\n",
       "    </tr>\n",
       "    <tr>\n",
       "      <th>1</th>\n",
       "      <td>126.0</td>\n",
       "      <td>1.0</td>\n",
       "      <td>1</td>\n",
       "      <td>NaN</td>\n",
       "      <td>4576.0</td>\n",
       "      <td>10.8864</td>\n",
       "      <td>0.027535</td>\n",
       "      <td>0</td>\n",
       "      <td>1</td>\n",
       "      <td>0</td>\n",
       "      <td>1</td>\n",
       "      <td>0</td>\n",
       "      <td>1</td>\n",
       "      <td>1</td>\n",
       "      <td>0</td>\n",
       "      <td>0</td>\n",
       "    </tr>\n",
       "    <tr>\n",
       "      <th>2</th>\n",
       "      <td>208.0</td>\n",
       "      <td>1.0</td>\n",
       "      <td>1</td>\n",
       "      <td>NaN</td>\n",
       "      <td>6800.0</td>\n",
       "      <td>17.9712</td>\n",
       "      <td>0.030588</td>\n",
       "      <td>0</td>\n",
       "      <td>1</td>\n",
       "      <td>0</td>\n",
       "      <td>0</td>\n",
       "      <td>1</td>\n",
       "      <td>1</td>\n",
       "      <td>1</td>\n",
       "      <td>0</td>\n",
       "      <td>0</td>\n",
       "    </tr>\n",
       "    <tr>\n",
       "      <th>3</th>\n",
       "      <td>100.0</td>\n",
       "      <td>1.0</td>\n",
       "      <td>1</td>\n",
       "      <td>NaN</td>\n",
       "      <td>4886.0</td>\n",
       "      <td>8.6400</td>\n",
       "      <td>0.020467</td>\n",
       "      <td>0</td>\n",
       "      <td>1</td>\n",
       "      <td>0</td>\n",
       "      <td>0</td>\n",
       "      <td>1</td>\n",
       "      <td>1</td>\n",
       "      <td>1</td>\n",
       "      <td>0</td>\n",
       "      <td>0</td>\n",
       "    </tr>\n",
       "    <tr>\n",
       "      <th>4</th>\n",
       "      <td>78.0</td>\n",
       "      <td>1.0</td>\n",
       "      <td>1</td>\n",
       "      <td>NaN</td>\n",
       "      <td>3276.0</td>\n",
       "      <td>6.7392</td>\n",
       "      <td>0.023810</td>\n",
       "      <td>0</td>\n",
       "      <td>0</td>\n",
       "      <td>1</td>\n",
       "      <td>0</td>\n",
       "      <td>0</td>\n",
       "      <td>0</td>\n",
       "      <td>1</td>\n",
       "      <td>0</td>\n",
       "      <td>0</td>\n",
       "    </tr>\n",
       "  </tbody>\n",
       "</table>\n",
       "</div>"
      ],
      "text/plain": [
       "   LoanAmount  Credit_History  source  Loan_Status  TotalIncome      EMI  \\\n",
       "0       110.0             1.0       1          NaN       5720.0   9.5040   \n",
       "1       126.0             1.0       1          NaN       4576.0  10.8864   \n",
       "2       208.0             1.0       1          NaN       6800.0  17.9712   \n",
       "3       100.0             1.0       1          NaN       4886.0   8.6400   \n",
       "4        78.0             1.0       1          NaN       3276.0   6.7392   \n",
       "\n",
       "   Loan_to_income  Gender_Female  Married_Yes  Dependents_0  Dependents_1  \\\n",
       "0        0.019231              0            1             1             0   \n",
       "1        0.027535              0            1             0             1   \n",
       "2        0.030588              0            1             0             0   \n",
       "3        0.020467              0            1             0             0   \n",
       "4        0.023810              0            0             1             0   \n",
       "\n",
       "   Dependents_2  Education_Graduate  Self_Employed_No  Property_Area_Rural  \\\n",
       "0             0                   1                 1                    0   \n",
       "1             0                   1                 1                    0   \n",
       "2             1                   1                 1                    0   \n",
       "3             1                   1                 1                    0   \n",
       "4             0                   0                 1                    0   \n",
       "\n",
       "   Property_Area_Semiurban  \n",
       "0                        0  \n",
       "1                        0  \n",
       "2                        0  \n",
       "3                        0  \n",
       "4                        0  "
      ]
     },
     "execution_count": 26,
     "metadata": {},
     "output_type": "execute_result"
    }
   ],
   "source": [
    "combined_onehot.head()"
   ]
  },
  {
   "cell_type": "markdown",
   "metadata": {},
   "source": [
    "### Model 1 - Logistic Regression"
   ]
  },
  {
   "cell_type": "markdown",
   "metadata": {},
   "source": [
    "Log Transform the numerical variables, followed by Standardizing "
   ]
  },
  {
   "cell_type": "code",
   "execution_count": 72,
   "metadata": {},
   "outputs": [],
   "source": [
    "# log transform numeric variables\n",
    "\n",
    "# Loan Amount \n",
    "combined_onehot['LoanAmount_log'] = np.log(1+combined_onehot.loc[:,'LoanAmount'])\n",
    "\n",
    "# Total Income \n",
    "combined_onehot['TotalIncome_log'] = np.log(1+combined_onehot.loc[:,'TotalIncome'])\n",
    "\n",
    "# EMI \n",
    "combined_onehot['EMI_log'] = np.log(1+combined_onehot.loc[:,'EMI'])\n",
    "\n",
    "# Loan To Income \n",
    "combined_onehot['Loan_to_income_log'] = np.log(1+combined_onehot.loc[:,'Loan_to_income'])\n",
    "\n",
    "# drop orignal non-transformed variables\n",
    "combined_onehot = combined_onehot.drop(['LoanAmount','TotalIncome','EMI','Loan_to_income'],axis = 1)"
   ]
  },
  {
   "cell_type": "code",
   "execution_count": 101,
   "metadata": {},
   "outputs": [],
   "source": [
    "# scaling data\n",
    "from sklearn.preprocessing import RobustScaler\n",
    "scaler = RobustScaler()\n",
    "\n",
    "features_to_be_scaled = ['LoanAmount_log','TotalIncome_log','EMI_log','Loan_to_income_log']\n",
    "\n",
    "combined_onehot.loc[:,features_to_be_scaled] = scaler.fit_transform(combined_onehot.loc[:,features_to_be_scaled])\n"
   ]
  },
  {
   "cell_type": "code",
   "execution_count": 102,
   "metadata": {},
   "outputs": [
    {
     "name": "stdout",
     "output_type": "stream",
     "text": [
      "LoanAmount_log        0.022442\n",
      "TotalIncome_log       0.127800\n",
      "EMI_log               0.041616\n",
      "Loan_to_income_log   -0.015581\n",
      "dtype: float64\n",
      "LoanAmount_log        1.014366\n",
      "TotalIncome_log       0.926324\n",
      "EMI_log               0.999622\n",
      "Loan_to_income_log    0.977583\n",
      "dtype: float64\n"
     ]
    }
   ],
   "source": [
    "print(combined_onehot.loc[:,features_to_be_scaled].mean()) # should be 0 if standard scalar, robust scalar ignores outliers for the calulations\n",
    "print(combined_onehot.loc[:,features_to_be_scaled].std()) # should be 1, if standard scalar, robust scalar ignores outliers for the calulations"
   ]
  },
  {
   "cell_type": "code",
   "execution_count": 103,
   "metadata": {},
   "outputs": [],
   "source": [
    "# separate test and train before modeling \n",
    "\n",
    "\n",
    "train_model = combined_onehot[combined_onehot['source'] == 0].copy()\n",
    "train_model = train_model.drop(['source'],axis = 1).copy()\n",
    "\n",
    "test_model = combined_onehot[combined_onehot['source'] == 1].copy()\n",
    "test_model = test_model.drop(['source','Loan_Status'],axis = 1).copy()\n"
   ]
  },
  {
   "cell_type": "code",
   "execution_count": 104,
   "metadata": {},
   "outputs": [],
   "source": [
    "# store feature matrix and response vector in two different datasets \n",
    "train_features = train_model.loc[:,train_model.columns != 'Loan_Status'].copy()\n",
    "train_labels = np.ravel(train_model.loc[:,train_model.columns == 'Loan_Status'].copy()) #ravel() converts df y to flattened array"
   ]
  },
  {
   "cell_type": "markdown",
   "metadata": {},
   "source": [
    "##### [Refer : Kaggle Notebook](https://www.kaggle.com/mnassrib/titanic-logistic-regression-with-python)"
   ]
  },
  {
   "cell_type": "markdown",
   "metadata": {},
   "source": [
    "#### Model 1.1 : Logistic Refression Using Test/Train split"
   ]
  },
  {
   "cell_type": "code",
   "execution_count": 118,
   "metadata": {},
   "outputs": [
    {
     "name": "stdout",
     "output_type": "stream",
     "text": [
      "Train/Test split results:\n",
      "LogisticRegression accuracy is 0.829\n",
      "LogisticRegression log_loss is 0.437\n",
      "LogisticRegression auc is 0.821\n"
     ]
    },
    {
     "data": {
      "image/png": "[encoded data removed]",
      "text/plain": [
       "<Figure size 432x288 with 1 Axes>"
      ]
     },
     "metadata": {
      "needs_background": "light"
     },
     "output_type": "display_data"
    },
    {
     "name": "stdout",
     "output_type": "stream",
     "text": [
      "Using a threshold of 0.668 guarantees a sensitivity of 0.965 and a specificity of 0.553, i.e. a false positive rate of 44.74%.\n"
     ]
    }
   ],
   "source": [
    "from sklearn.model_selection import train_test_split, cross_val_score\n",
    "from sklearn.metrics import accuracy_score, classification_report, precision_score, recall_score \n",
    "from sklearn.metrics import confusion_matrix, precision_recall_curve, roc_curve, auc, log_loss\n",
    "\n",
    "# store feature matrix and response vector in two different datasets \n",
    "train_features = train_model.loc[:,train_model.columns != 'Loan_Status'].copy()\n",
    "train_labels = np.ravel(train_model.loc[:,train_model.columns == 'Loan_Status'].copy()) #ravel() converts df y to flattened array\n",
    "\n",
    "\n",
    "X_train, X_validate, y_train, y_validate = train_test_split(train_features, train_labels, test_size=0.2, random_state=3,stratify = y)\n",
    "\n",
    "# check classification scores of logistic regression\n",
    "logreg = LogisticRegression()\n",
    "logreg.fit(X_train, y_train)\n",
    "y_pred = logreg.predict(X_validate)\n",
    "y_pred_proba = logreg.predict_proba(X_validate)[:, 1]\n",
    "[fpr, tpr, thr] = roc_curve(y_validate, y_pred_proba)\n",
    "\n",
    "print('Train/Test split results:')\n",
    "print(logreg.__class__.__name__+\" accuracy is %2.3f\" % accuracy_score(y_validate, y_pred))\n",
    "print(logreg.__class__.__name__+\" log_loss is %2.3f\" % log_loss(y_validate, y_pred_proba))\n",
    "print(logreg.__class__.__name__+\" auc is %2.3f\" % auc(fpr, tpr))\n",
    "\n",
    "idx = np.min(np.where(tpr > 0.95)) # index of the first threshold for which the sensibility > 0.95\n",
    "\n",
    "plt.figure()\n",
    "plt.plot(fpr, tpr, color='coral', label='ROC curve (area = %0.3f)' % auc(fpr, tpr))\n",
    "plt.plot([0, 1], [0, 1], 'k--')\n",
    "plt.plot([0,fpr[idx]], [tpr[idx],tpr[idx]], 'k--', color='blue')\n",
    "plt.plot([fpr[idx],fpr[idx]], [0,tpr[idx]], 'k--', color='blue')\n",
    "plt.xlim([0.0, 1.0])\n",
    "plt.ylim([0.0, 1.05])\n",
    "plt.xlabel('False Positive Rate (1 - specificity)', fontsize=14)\n",
    "plt.ylabel('True Positive Rate (recall)', fontsize=14)\n",
    "plt.title('Receiver operating characteristic (ROC) curve')\n",
    "plt.legend(loc=\"lower right\")\n",
    "plt.show()\n",
    "\n",
    "print(\"Using a threshold of %.3f \" % thr[idx] + \"guarantees a sensitivity of %.3f \" % tpr[idx] +  \n",
    "      \"and a specificity of %.3f\" % (1-fpr[idx]) + \n",
    "      \", i.e. a false positive rate of %.2f%%.\" % (np.array(fpr[idx])*100))"
   ]
  },
  {
   "cell_type": "code",
   "execution_count": 119,
   "metadata": {},
   "outputs": [],
   "source": [
    "# output file\n",
    "pred_test = logreg.predict(test_model)\n",
    "pred_test_df = pd.DataFrame()\n",
    "pred_test_df['Loan_ID'] = test['Loan_ID']\n",
    "pred_test_df['Loan_Status'] = np.vectorize(lambda s: 'Y' if s==1 else 'N')(pred_test)\n",
    "pred_test_df[['Loan_ID','Loan_Status']].to_csv('new_simple_logistic.csv',index=False)"
   ]
  },
  {
   "cell_type": "markdown",
   "metadata": {},
   "source": [
    "#### Model 1.2 Logistic Regression using GridSearchCV (multiple scorers)"
   ]
  },
  {
   "cell_type": "code",
   "execution_count": 107,
   "metadata": {},
   "outputs": [
    {
     "name": "stdout",
     "output_type": "stream",
     "text": [
      "====================\n",
      "best params: LogisticRegression(C=0.20001000000000002, class_weight=None, dual=False,\n",
      "                   fit_intercept=True, intercept_scaling=1, l1_ratio=None,\n",
      "                   max_iter=100, multi_class='warn', n_jobs=None, penalty='l2',\n",
      "                   random_state=None, solver='warn', tol=0.0001, verbose=0,\n",
      "                   warm_start=False)\n",
      "best params: {'C': 0.20001000000000002}\n",
      "best score: 0.8110749185667753\n",
      "====================\n"
     ]
    },
    {
     "data": {
      "image/png": "[encoded data removed]",
      "text/plain": [
       "<Figure size 720x720 with 1 Axes>"
      ]
     },
     "metadata": {
      "needs_background": "light"
     },
     "output_type": "display_data"
    }
   ],
   "source": [
    "from sklearn.model_selection import GridSearchCV\n",
    "\n",
    "X = train_features\n",
    "y = train_labels\n",
    "\n",
    "param_grid = {'C': np.arange(1e-05, 3, 0.1)}\n",
    "scoring = {'Accuracy': 'accuracy', 'AUC': 'roc_auc', 'Log_loss': 'neg_log_loss'}\n",
    "\n",
    "gs = GridSearchCV(LogisticRegression(), return_train_score=True,\n",
    "                  param_grid=param_grid, scoring=scoring, cv=10, refit='Accuracy')\n",
    "\n",
    "gs.fit(X, y)\n",
    "results = gs.cv_results_\n",
    "\n",
    "print('='*20)\n",
    "print(\"best params: \" + str(gs.best_estimator_))\n",
    "print(\"best params: \" + str(gs.best_params_))\n",
    "print('best score:', gs.best_score_)\n",
    "print('='*20)\n",
    "\n",
    "plt.figure(figsize=(10, 10))\n",
    "plt.title(\"GridSearchCV evaluating using multiple scorers simultaneously\",fontsize=16)\n",
    "\n",
    "plt.xlabel(\"Inverse of regularization strength: C\")\n",
    "plt.ylabel(\"Score\")\n",
    "plt.grid()\n",
    "\n",
    "ax = plt.axes()\n",
    "ax.set_xlim(0, param_grid['C'].max()) \n",
    "ax.set_ylim(0.35, 0.95)\n",
    "\n",
    "# Get the regular numpy array from the MaskedArray\n",
    "X_axis = np.array(results['param_C'].data, dtype=float)\n",
    "\n",
    "for scorer, color in zip(list(scoring.keys()), ['g', 'k', 'b']): \n",
    "    for sample, style in (('train', '--'), ('test', '-')):\n",
    "        sample_score_mean = -results['mean_%s_%s' % (sample, scorer)] if scoring[scorer]=='neg_log_loss' else results['mean_%s_%s' % (sample, scorer)]\n",
    "        sample_score_std = results['std_%s_%s' % (sample, scorer)]\n",
    "        ax.fill_between(X_axis, sample_score_mean - sample_score_std,\n",
    "                        sample_score_mean + sample_score_std,\n",
    "                        alpha=0.1 if sample == 'test' else 0, color=color)\n",
    "        ax.plot(X_axis, sample_score_mean, style, color=color,\n",
    "                alpha=1 if sample == 'test' else 0.7,\n",
    "                label=\"%s (%s)\" % (scorer, sample))\n",
    "\n",
    "    best_index = np.nonzero(results['rank_test_%s' % scorer] == 1)[0][0]\n",
    "    best_score = -results['mean_test_%s' % scorer][best_index] if scoring[scorer]=='neg_log_loss' else results['mean_test_%s' % scorer][best_index]\n",
    "        \n",
    "    # Plot a dotted vertical line at the best score for that scorer marked by x\n",
    "    ax.plot([X_axis[best_index], ] * 2, [0, best_score],\n",
    "            linestyle='-.', color=color, marker='x', markeredgewidth=3, ms=8)\n",
    "\n",
    "    # Annotate the best score for that scorer\n",
    "    ax.annotate(\"%0.2f\" % best_score,\n",
    "                (X_axis[best_index], best_score + 0.005))\n",
    "\n",
    "plt.legend(loc=\"best\")\n",
    "plt.grid('off')\n",
    "plt.show()"
   ]
  },
  {
   "cell_type": "code",
   "execution_count": 108,
   "metadata": {},
   "outputs": [],
   "source": [
    "# output file\n",
    "pred_test = gs.predict(test_model)\n",
    "pred_test_df = pd.DataFrame()\n",
    "pred_test_df['Loan_ID'] = test['Loan_ID']\n",
    "pred_test_df['Loan_Status'] = np.vectorize(lambda s: 'Y' if s==1 else 'N')(pred_test)\n",
    "pred_test_df[['Loan_ID','Loan_Status']].to_csv('new_GSCV_logistic.csv',index=False)"
   ]
  },
  {
   "cell_type": "markdown",
   "metadata": {},
   "source": [
    "### Model 2 - Random Forest (w/ GridSearchCV)"
   ]
  },
  {
   "cell_type": "markdown",
   "metadata": {},
   "source": [
    "##### [Refer : Kaggle Notebook](https://www.kaggle.com/zlatankr/titanic-random-forest-82-78/notebook)"
   ]
  },
  {
   "cell_type": "markdown",
   "metadata": {},
   "source": [
    "Transformation/Scaling not very critical for tree based algorithms, but let's use the same dataset"
   ]
  },
  {
   "cell_type": "code",
   "execution_count": 144,
   "metadata": {},
   "outputs": [
    {
     "name": "stdout",
     "output_type": "stream",
     "text": [
      "0.8127035830618893\n",
      "{'criterion': 'entropy', 'min_samples_leaf': 1, 'min_samples_split': 10, 'n_estimators': 50}\n"
     ]
    }
   ],
   "source": [
    "from sklearn.model_selection import GridSearchCV\n",
    "from sklearn.ensemble import RandomForestClassifier\n",
    "\n",
    "rf = RandomForestClassifier(max_features='auto', oob_score=True, random_state=1, n_jobs=-1)\n",
    "\n",
    "param_grid = { \"criterion\" : [\"gini\", \"entropy\"], \"min_samples_leaf\" : [1, 5, 10], \"min_samples_split\" : [2, 4, 10, 12, 16], \"n_estimators\": [50, 100, 400, 700, 1000]}\n",
    "\n",
    "gs = GridSearchCV(estimator=rf, param_grid=param_grid, scoring='accuracy', cv=3, n_jobs=-1)\n",
    "\n",
    "gs = gs.fit(train_features, train_labels)\n",
    "\n",
    "\n",
    "print(gs.best_score_)\n",
    "print(gs.best_params_)\n"
   ]
  },
  {
   "cell_type": "code",
   "execution_count": 143,
   "metadata": {},
   "outputs": [
    {
     "name": "stdout",
     "output_type": "stream",
     "text": [
      "0.8127035830618893\n",
      "{'criterion': 'entropy', 'min_samples_leaf': 1, 'min_samples_split': 10, 'n_estimators': 50}\n"
     ]
    }
   ],
   "source": [
    "\n",
    "print(gs.best_score_)\n",
    "print(gs.best_params_)\n",
    "\n"
   ]
  },
  {
   "cell_type": "code",
   "execution_count": 145,
   "metadata": {},
   "outputs": [
    {
     "name": "stdout",
     "output_type": "stream",
     "text": [
      "0.8029\n"
     ]
    }
   ],
   "source": [
    "# train rf model using the best_params_ from gridsearch\n",
    "\n",
    "from sklearn.ensemble import RandomForestClassifier\n",
    "\n",
    "rf = RandomForestClassifier(criterion='entropy', \n",
    "                             n_estimators=50,\n",
    "                             min_samples_split=10,\n",
    "                             min_samples_leaf=1,\n",
    "                             max_features='auto',\n",
    "                             oob_score=True,\n",
    "                             random_state=1,\n",
    "                             n_jobs=-1)\n",
    "rf.fit(train_features, train_labels)\n",
    "print(\"%.4f\" % rf.oob_score_)"
   ]
  },
  {
   "cell_type": "code",
   "execution_count": 146,
   "metadata": {},
   "outputs": [
    {
     "data": {
      "text/html": [
       "<div>\n",
       "<style scoped>\n",
       "    .dataframe tbody tr th:only-of-type {\n",
       "        vertical-align: middle;\n",
       "    }\n",
       "\n",
       "    .dataframe tbody tr th {\n",
       "        vertical-align: top;\n",
       "    }\n",
       "\n",
       "    .dataframe thead th {\n",
       "        text-align: right;\n",
       "    }\n",
       "</style>\n",
       "<table border=\"1\" class=\"dataframe\">\n",
       "  <thead>\n",
       "    <tr style=\"text-align: right;\">\n",
       "      <th></th>\n",
       "      <th>variable</th>\n",
       "      <th>importance</th>\n",
       "    </tr>\n",
       "  </thead>\n",
       "  <tbody>\n",
       "    <tr>\n",
       "      <th>0</th>\n",
       "      <td>Credit_History</td>\n",
       "      <td>0.300583</td>\n",
       "    </tr>\n",
       "    <tr>\n",
       "      <th>11</th>\n",
       "      <td>TotalIncome_log</td>\n",
       "      <td>0.154751</td>\n",
       "    </tr>\n",
       "    <tr>\n",
       "      <th>13</th>\n",
       "      <td>Loan_to_income_log</td>\n",
       "      <td>0.147284</td>\n",
       "    </tr>\n",
       "    <tr>\n",
       "      <th>12</th>\n",
       "      <td>EMI_log</td>\n",
       "      <td>0.124160</td>\n",
       "    </tr>\n",
       "    <tr>\n",
       "      <th>10</th>\n",
       "      <td>LoanAmount_log</td>\n",
       "      <td>0.121719</td>\n",
       "    </tr>\n",
       "    <tr>\n",
       "      <th>2</th>\n",
       "      <td>Married_Yes</td>\n",
       "      <td>0.023430</td>\n",
       "    </tr>\n",
       "    <tr>\n",
       "      <th>9</th>\n",
       "      <td>Property_Area_Semiurban</td>\n",
       "      <td>0.022315</td>\n",
       "    </tr>\n",
       "    <tr>\n",
       "      <th>6</th>\n",
       "      <td>Education_Graduate</td>\n",
       "      <td>0.019810</td>\n",
       "    </tr>\n",
       "    <tr>\n",
       "      <th>1</th>\n",
       "      <td>Gender_Female</td>\n",
       "      <td>0.015847</td>\n",
       "    </tr>\n",
       "    <tr>\n",
       "      <th>8</th>\n",
       "      <td>Property_Area_Rural</td>\n",
       "      <td>0.015277</td>\n",
       "    </tr>\n",
       "    <tr>\n",
       "      <th>3</th>\n",
       "      <td>Dependents_0</td>\n",
       "      <td>0.014672</td>\n",
       "    </tr>\n",
       "    <tr>\n",
       "      <th>7</th>\n",
       "      <td>Self_Employed_No</td>\n",
       "      <td>0.013774</td>\n",
       "    </tr>\n",
       "    <tr>\n",
       "      <th>4</th>\n",
       "      <td>Dependents_1</td>\n",
       "      <td>0.013756</td>\n",
       "    </tr>\n",
       "    <tr>\n",
       "      <th>5</th>\n",
       "      <td>Dependents_2</td>\n",
       "      <td>0.012619</td>\n",
       "    </tr>\n",
       "  </tbody>\n",
       "</table>\n",
       "</div>"
      ],
      "text/plain": [
       "                   variable  importance\n",
       "0            Credit_History    0.300583\n",
       "11          TotalIncome_log    0.154751\n",
       "13       Loan_to_income_log    0.147284\n",
       "12                  EMI_log    0.124160\n",
       "10           LoanAmount_log    0.121719\n",
       "2               Married_Yes    0.023430\n",
       "9   Property_Area_Semiurban    0.022315\n",
       "6        Education_Graduate    0.019810\n",
       "1             Gender_Female    0.015847\n",
       "8       Property_Area_Rural    0.015277\n",
       "3              Dependents_0    0.014672\n",
       "7          Self_Employed_No    0.013774\n",
       "4              Dependents_1    0.013756\n",
       "5              Dependents_2    0.012619"
      ]
     },
     "execution_count": 146,
     "metadata": {},
     "output_type": "execute_result"
    }
   ],
   "source": [
    "pd.concat((pd.DataFrame(train_features.columns, columns = ['variable']), \n",
    "           pd.DataFrame(rf.feature_importances_, columns = ['importance'])), \n",
    "          axis = 1).sort_values(by='importance', ascending = False)[:20]"
   ]
  },
  {
   "cell_type": "code",
   "execution_count": 147,
   "metadata": {},
   "outputs": [],
   "source": [
    "# output file\n",
    "pred_test = rf.predict(test_model)\n",
    "pred_test_df = pd.DataFrame()\n",
    "pred_test_df['Loan_ID'] = test['Loan_ID']\n",
    "pred_test_df['Loan_Status'] = np.vectorize(lambda s: 'Y' if s==1 else 'N')(pred_test)\n",
    "pred_test_df[['Loan_ID','Loan_Status']].to_csv('new_rf_GSCV.csv',index=False)"
   ]
  },
  {
   "cell_type": "markdown",
   "metadata": {},
   "source": [
    "### Model 2 - xGBoost (w/ GridSearchCV)"
   ]
  },
  {
   "cell_type": "code",
   "execution_count": 161,
   "metadata": {},
   "outputs": [
    {
     "name": "stdout",
     "output_type": "stream",
     "text": [
      "Fitting 5 folds for each of 2430 candidates, totalling 12150 fits\n"
     ]
    },
    {
     "name": "stderr",
     "output_type": "stream",
     "text": [
      "[Parallel(n_jobs=-1)]: Using backend LokyBackend with 16 concurrent workers.\n",
      "[Parallel(n_jobs=-1)]: Done  18 tasks      | elapsed:    3.8s\n",
      "[Parallel(n_jobs=-1)]: Done 438 tasks      | elapsed:    5.2s\n",
      "[Parallel(n_jobs=-1)]: Done 3438 tasks      | elapsed:   12.9s\n",
      "[Parallel(n_jobs=-1)]: Done 7638 tasks      | elapsed:   25.5s\n"
     ]
    },
    {
     "name": "stdout",
     "output_type": "stream",
     "text": [
      "40.968947649002075\n"
     ]
    },
    {
     "name": "stderr",
     "output_type": "stream",
     "text": [
      "[Parallel(n_jobs=-1)]: Done 12150 out of 12150 | elapsed:   40.8s finished\n"
     ]
    }
   ],
   "source": [
    "from xgboost import XGBClassifier\n",
    "from sklearn.metrics import make_scorer\n",
    "\n",
    "\n",
    "param_test = {\n",
    "    'n_estimators': [10,50,100],\n",
    "    'max_depth': [3,5,7],\n",
    "    'min_child_weight': [1,3],\n",
    "    'gamma':[i/10.0 for i in range(0,5)],\n",
    "    'subsample':[0.5,0.75,1],\n",
    "    'colsample_bytree':[0.5,0.75,1],\n",
    "    'learning_rate': [0.01, 0.05, 0.1]\n",
    "}\n",
    "\n",
    "scoring = {'AUC': 'roc_auc', 'Accuracy': make_scorer(accuracy_score)}\n",
    "\n",
    "gs = GridSearchCV(estimator = XGBClassifier(), \n",
    "                       param_grid = param_test, \n",
    "                       scoring=scoring,\n",
    "                       iid=False,\n",
    "                       cv=5, \n",
    "                       verbose = 1, \n",
    "                       refit='Accuracy',\n",
    "                       n_jobs = -1)\n",
    "\n",
    "gss.fit(train_features, train_labels)"
   ]
  },
  {
   "cell_type": "code",
   "execution_count": 162,
   "metadata": {},
   "outputs": [
    {
     "name": "stdout",
     "output_type": "stream",
     "text": [
      "0.8193283976731888\n",
      "{'colsample_bytree': 0.75, 'gamma': 0.0, 'learning_rate': 0.05, 'max_depth': 3, 'min_child_weight': 3, 'n_estimators': 10, 'subsample': 1}\n"
     ]
    }
   ],
   "source": [
    "print(gs.best_score_)\n",
    "print(gs.best_params_)"
   ]
  },
  {
   "cell_type": "code",
   "execution_count": 178,
   "metadata": {},
   "outputs": [
    {
     "name": "stdout",
     "output_type": "stream",
     "text": [
      "Train/Test split results:\n",
      "XGBClassifier accuracy is 0.813\n",
      "XGBClassifier log_loss is 0.570\n",
      "XGBClassifier auc is 0.820\n"
     ]
    }
   ],
   "source": [
    "# train xBG model using the best_params_ from gridsearch\n",
    "\n",
    "# split into train and validate\n",
    "X_train, X_validate, y_train, y_validate = train_test_split(train_features, train_labels, test_size=0.2, random_state=3,stratify = y)\n",
    "\n",
    "# train xBG on train\n",
    "from xgboost import XGBClassifier\n",
    "\n",
    "xGB = XGBClassifier(colsample_bytree=0.75, \n",
    "                             gamma=0.0,\n",
    "                             learning_rate=0.05,\n",
    "                             max_depth=3,\n",
    "                             min_child_weight=3,\n",
    "                             n_estimators=10,\n",
    "                             subsample = 1,\n",
    "                             random_state=1,\n",
    "                             n_jobs=-1)\n",
    "\n",
    "xGB.fit(X_train, y_train)\n",
    "\n",
    "# predict validate\n",
    "\n",
    "y_pred = xGB.predict(X_validate)\n",
    "y_pred_proba = xGB.predict_proba(X_validate)[:, 1]\n",
    "\n",
    "[fpr, tpr, thr] = roc_curve(y_validate, y_pred_proba)\n",
    "print('Train/Test split results:')\n",
    "print(xGB.__class__.__name__+\" accuracy is %2.3f\" % accuracy_score(y_validate, y_pred))\n",
    "print(xGB.__class__.__name__+\" log_loss is %2.3f\" % log_loss(y_validate, y_pred_proba))\n",
    "print(xGB.__class__.__name__+\" auc is %2.3f\" % auc(fpr, tpr))"
   ]
  },
  {
   "cell_type": "code",
   "execution_count": 179,
   "metadata": {},
   "outputs": [],
   "source": [
    "# output file\n",
    "pred_test = xGB.predict(test_model)\n",
    "pred_test_df = pd.DataFrame()\n",
    "pred_test_df['Loan_ID'] = test['Loan_ID']\n",
    "pred_test_df['Loan_Status'] = np.vectorize(lambda s: 'Y' if s==1 else 'N')(pred_test)\n",
    "pred_test_df[['Loan_ID','Loan_Status']].to_csv('new_xGB_GSCV.csv',index=False)"
   ]
  },
  {
   "cell_type": "markdown",
   "metadata": {},
   "source": [
    "## Models with Mean Encoding (non-regularized)"
   ]
  },
  {
   "cell_type": "code",
   "execution_count": 92,
   "metadata": {},
   "outputs": [
    {
     "name": "stdout",
     "output_type": "stream",
     "text": [
      "<class 'pandas.core.frame.DataFrame'>\n",
      "Int64Index: 981 entries, 0 to 613\n",
      "Data columns (total 13 columns):\n",
      "Gender            981 non-null object\n",
      "Married           981 non-null object\n",
      "Dependents        981 non-null object\n",
      "Education         981 non-null object\n",
      "Self_Employed     981 non-null object\n",
      "LoanAmount        981 non-null float64\n",
      "Credit_History    981 non-null float64\n",
      "Property_Area     981 non-null object\n",
      "source            981 non-null int64\n",
      "Loan_Status       614 non-null float64\n",
      "TotalIncome       981 non-null float64\n",
      "EMI               981 non-null float64\n",
      "Loan_to_income    981 non-null float64\n",
      "dtypes: float64(6), int64(1), object(6)\n",
      "memory usage: 107.3+ KB\n"
     ]
    }
   ],
   "source": [
    "# convert Loan_Status, Source into numeric before applying encoding\n",
    "\n",
    "combined['Loan_Status'].replace('Y',1,inplace = True)\n",
    "combined['Loan_Status'].replace('N',0,inplace = True)\n",
    "\n",
    "combined['source'].replace('train',0,inplace = True)\n",
    "combined['source'].replace('test',1,inplace = True)\n",
    "\n",
    "combined.info()"
   ]
  },
  {
   "cell_type": "code",
   "execution_count": 93,
   "metadata": {},
   "outputs": [],
   "source": [
    "# separate test and train before modeling \n",
    "\n",
    "train_model = combined[combined['source'] == 0].copy()\n",
    "train_model = train_model.drop(['source'],axis = 1).copy()\n",
    "\n",
    "test_model = combined[combined['source'] == 1].copy()\n",
    "test_model = test_model.drop(['source','Loan_Status'],axis = 1).copy()\n"
   ]
  },
  {
   "cell_type": "code",
   "execution_count": 129,
   "metadata": {},
   "outputs": [],
   "source": [
    "cols_mean_encoded = ['Gender','Married','Dependents','Education','Self_Employed','Property_Area']"
   ]
  },
  {
   "cell_type": "code",
   "execution_count": 164,
   "metadata": {},
   "outputs": [],
   "source": [
    "train_mean_encoded = train_model\n",
    "test_mean_encoded = test_model\n",
    "\n",
    "for col in cols_mean_encoded:\n",
    "    mean = train_mean_encoded.groupby(col)['Loan_Status'].mean()\n",
    "    train_mean_encoded['mean_encoded_'+col] =train_mean_encoded.loc[:,col].map(mean)\n",
    "    test_mean_encoded['mean_encoded_'+col] =test_mean_encoded.loc[:,col].map(mean)\n",
    "\n",
    "# drop original columns \n",
    "\n",
    "train_mean_encoded = train_mean_encoded.drop(cols_mean_encoded,axis = 1)\n",
    "test_mean_encoded = test_mean_encoded.drop(cols_mean_encoded,axis = 1)\n"
   ]
  },
  {
   "cell_type": "code",
   "execution_count": 162,
   "metadata": {},
   "outputs": [
    {
     "data": {
      "text/html": [
       "<div>\n",
       "<style scoped>\n",
       "    .dataframe tbody tr th:only-of-type {\n",
       "        vertical-align: middle;\n",
       "    }\n",
       "\n",
       "    .dataframe tbody tr th {\n",
       "        vertical-align: top;\n",
       "    }\n",
       "\n",
       "    .dataframe thead th {\n",
       "        text-align: right;\n",
       "    }\n",
       "</style>\n",
       "<table border=\"1\" class=\"dataframe\">\n",
       "  <thead>\n",
       "    <tr style=\"text-align: right;\">\n",
       "      <th></th>\n",
       "      <th>mean_encoded_Property_Area</th>\n",
       "    </tr>\n",
       "    <tr>\n",
       "      <th>Property_Area</th>\n",
       "      <th></th>\n",
       "    </tr>\n",
       "  </thead>\n",
       "  <tbody>\n",
       "    <tr>\n",
       "      <th>Rural</th>\n",
       "      <td>0.614525</td>\n",
       "    </tr>\n",
       "    <tr>\n",
       "      <th>Semiurban</th>\n",
       "      <td>0.768240</td>\n",
       "    </tr>\n",
       "    <tr>\n",
       "      <th>Urban</th>\n",
       "      <td>0.658416</td>\n",
       "    </tr>\n",
       "  </tbody>\n",
       "</table>\n",
       "</div>"
      ],
      "text/plain": [
       "               mean_encoded_Property_Area\n",
       "Property_Area                            \n",
       "Rural                            0.614525\n",
       "Semiurban                        0.768240\n",
       "Urban                            0.658416"
      ]
     },
     "execution_count": 162,
     "metadata": {},
     "output_type": "execute_result"
    }
   ],
   "source": []
  },
  {
   "cell_type": "code",
   "execution_count": 165,
   "metadata": {},
   "outputs": [],
   "source": [
    "# store feature matrix and response vector in two different datasets \n",
    "train_features = train_mean_encoded.loc[:,train_mean_encoded.columns != 'Loan_Status'].copy()\n",
    "train_labels = np.ravel(train_mean_encoded.loc[:,train_mean_encoded.columns == 'Loan_Status'].copy()) #ravel() converts df y to flattened array"
   ]
  },
  {
   "cell_type": "code",
   "execution_count": 166,
   "metadata": {},
   "outputs": [],
   "source": [
    "# train, validate split\n",
    "from sklearn.model_selection import train_test_split\n",
    "X_train, X_validate, y_train, y_validate = train_test_split(train_features, train_labels, test_size=0.2, random_state=3)"
   ]
  },
  {
   "cell_type": "markdown",
   "metadata": {},
   "source": [
    "#### RandomForest with GridSearchCV"
   ]
  },
  {
   "cell_type": "code",
   "execution_count": 169,
   "metadata": {},
   "outputs": [
    {
     "name": "stdout",
     "output_type": "stream",
     "text": [
      "0.8094462540716613\n",
      "{'criterion': 'gini', 'min_samples_leaf': 5, 'min_samples_split': 12, 'n_estimators': 100}\n"
     ]
    }
   ],
   "source": [
    "from sklearn.model_selection import GridSearchCV\n",
    "from sklearn.ensemble import RandomForestClassifier\n",
    "\n",
    "rf = RandomForestClassifier(max_features='auto', oob_score=True, random_state=1, n_jobs=-1)\n",
    "\n",
    "param_grid = { \"criterion\" : [\"gini\", \"entropy\"], \"min_samples_leaf\" : [1, 5, 10], \"min_samples_split\" : [2, 4, 10, 12, 16], \"n_estimators\": [50, 100, 400, 700, 1000]}\n",
    "\n",
    "gs = GridSearchCV(estimator=rf, param_grid=param_grid, scoring='accuracy', cv=3, n_jobs=-1)\n",
    "\n",
    "gs = gs.fit(train_features, train_labels)\n",
    "\n",
    "\n",
    "print(gs.best_score_)\n",
    "print(gs.best_params_)\n"
   ]
  },
  {
   "cell_type": "code",
   "execution_count": 170,
   "metadata": {},
   "outputs": [
    {
     "name": "stdout",
     "output_type": "stream",
     "text": [
      "0.8127\n"
     ]
    }
   ],
   "source": [
    "# train rf model using the best_params_ from gridsearch\n",
    "\n",
    "from sklearn.ensemble import RandomForestClassifier\n",
    "\n",
    "rf = RandomForestClassifier(criterion='gini', \n",
    "                             n_estimators=100,\n",
    "                             min_samples_split=12,\n",
    "                             min_samples_leaf=5,\n",
    "                             max_features='auto',\n",
    "                             oob_score=True,\n",
    "                             n_jobs=-1)\n",
    "rf.fit(train_features, train_labels)\n",
    "print(\"%.4f\" % rf.oob_score_)"
   ]
  },
  {
   "cell_type": "code",
   "execution_count": 171,
   "metadata": {},
   "outputs": [
    {
     "data": {
      "text/html": [
       "<div>\n",
       "<style scoped>\n",
       "    .dataframe tbody tr th:only-of-type {\n",
       "        vertical-align: middle;\n",
       "    }\n",
       "\n",
       "    .dataframe tbody tr th {\n",
       "        vertical-align: top;\n",
       "    }\n",
       "\n",
       "    .dataframe thead th {\n",
       "        text-align: right;\n",
       "    }\n",
       "</style>\n",
       "<table border=\"1\" class=\"dataframe\">\n",
       "  <thead>\n",
       "    <tr style=\"text-align: right;\">\n",
       "      <th></th>\n",
       "      <th>variable</th>\n",
       "      <th>importance</th>\n",
       "    </tr>\n",
       "  </thead>\n",
       "  <tbody>\n",
       "    <tr>\n",
       "      <th>1</th>\n",
       "      <td>Credit_History</td>\n",
       "      <td>0.460190</td>\n",
       "    </tr>\n",
       "    <tr>\n",
       "      <th>4</th>\n",
       "      <td>Loan_to_income</td>\n",
       "      <td>0.139338</td>\n",
       "    </tr>\n",
       "    <tr>\n",
       "      <th>2</th>\n",
       "      <td>TotalIncome</td>\n",
       "      <td>0.120958</td>\n",
       "    </tr>\n",
       "    <tr>\n",
       "      <th>0</th>\n",
       "      <td>LoanAmount</td>\n",
       "      <td>0.085872</td>\n",
       "    </tr>\n",
       "    <tr>\n",
       "      <th>3</th>\n",
       "      <td>EMI</td>\n",
       "      <td>0.082272</td>\n",
       "    </tr>\n",
       "    <tr>\n",
       "      <th>10</th>\n",
       "      <td>mean_encoded_Property_Area</td>\n",
       "      <td>0.041973</td>\n",
       "    </tr>\n",
       "    <tr>\n",
       "      <th>7</th>\n",
       "      <td>mean_encoded_Dependents</td>\n",
       "      <td>0.019503</td>\n",
       "    </tr>\n",
       "    <tr>\n",
       "      <th>6</th>\n",
       "      <td>mean_encoded_Married</td>\n",
       "      <td>0.019228</td>\n",
       "    </tr>\n",
       "    <tr>\n",
       "      <th>8</th>\n",
       "      <td>mean_encoded_Education</td>\n",
       "      <td>0.014350</td>\n",
       "    </tr>\n",
       "    <tr>\n",
       "      <th>5</th>\n",
       "      <td>mean_encoded_Gender</td>\n",
       "      <td>0.010781</td>\n",
       "    </tr>\n",
       "    <tr>\n",
       "      <th>9</th>\n",
       "      <td>mean_encoded_Self_Employed</td>\n",
       "      <td>0.005535</td>\n",
       "    </tr>\n",
       "  </tbody>\n",
       "</table>\n",
       "</div>"
      ],
      "text/plain": [
       "                      variable  importance\n",
       "1               Credit_History    0.460190\n",
       "4               Loan_to_income    0.139338\n",
       "2                  TotalIncome    0.120958\n",
       "0                   LoanAmount    0.085872\n",
       "3                          EMI    0.082272\n",
       "10  mean_encoded_Property_Area    0.041973\n",
       "7      mean_encoded_Dependents    0.019503\n",
       "6         mean_encoded_Married    0.019228\n",
       "8       mean_encoded_Education    0.014350\n",
       "5          mean_encoded_Gender    0.010781\n",
       "9   mean_encoded_Self_Employed    0.005535"
      ]
     },
     "execution_count": 171,
     "metadata": {},
     "output_type": "execute_result"
    }
   ],
   "source": [
    "pd.concat((pd.DataFrame(train_features.columns, columns = ['variable']), \n",
    "           pd.DataFrame(rf.feature_importances_, columns = ['importance'])), \n",
    "          axis = 1).sort_values(by='importance', ascending = False)[:20]"
   ]
  },
  {
   "cell_type": "code",
   "execution_count": 172,
   "metadata": {},
   "outputs": [],
   "source": [
    "# output file\n",
    "pred_test = rf.predict(test_mean_encoded)\n",
    "pred_test_df = pd.DataFrame()\n",
    "pred_test_df['Loan_ID'] = test['Loan_ID']\n",
    "pred_test_df['Loan_Status'] = np.vectorize(lambda s: 'Y' if s==1 else 'N')(pred_test)\n",
    "pred_test_df[['Loan_ID','Loan_Status']].to_csv('new_rf_GSCV_encoded.csv',index=False)"
   ]
  },
  {
   "cell_type": "markdown",
   "metadata": {},
   "source": [
    "#### xGB with GridSearchCV"
   ]
  },
  {
   "cell_type": "code",
   "execution_count": 175,
   "metadata": {},
   "outputs": [
    {
     "name": "stdout",
     "output_type": "stream",
     "text": [
      "Fitting 5 folds for each of 2430 candidates, totalling 12150 fits\n"
     ]
    },
    {
     "name": "stderr",
     "output_type": "stream",
     "text": [
      "[Parallel(n_jobs=-1)]: Using backend LokyBackend with 16 concurrent workers.\n",
      "[Parallel(n_jobs=-1)]: Done  18 tasks      | elapsed:    3.7s\n",
      "[Parallel(n_jobs=-1)]: Done 606 tasks      | elapsed:    5.2s\n",
      "[Parallel(n_jobs=-1)]: Done 4106 tasks      | elapsed:   13.0s\n",
      "[Parallel(n_jobs=-1)]: Done 9006 tasks      | elapsed:   25.7s\n",
      "[Parallel(n_jobs=-1)]: Done 12150 out of 12150 | elapsed:   35.1s finished\n"
     ]
    },
    {
     "data": {
      "text/plain": [
       "GridSearchCV(cv=5, error_score='raise-deprecating',\n",
       "             estimator=XGBClassifier(base_score=None, booster=None,\n",
       "                                     colsample_bylevel=None,\n",
       "                                     colsample_bynode=None,\n",
       "                                     colsample_bytree=None, gamma=None,\n",
       "                                     gpu_id=None, importance_type='gain',\n",
       "                                     interaction_constraints=None,\n",
       "                                     learning_rate=None, max_delta_step=None,\n",
       "                                     max_depth=None, min_child_weight=None,\n",
       "                                     missing=nan, monotone_constrai...\n",
       "             iid=False, n_jobs=-1,\n",
       "             param_grid={'colsample_bytree': [0.5, 0.75, 1],\n",
       "                         'gamma': [0.0, 0.1, 0.2, 0.3, 0.4],\n",
       "                         'learning_rate': [0.01, 0.05, 0.1],\n",
       "                         'max_depth': [3, 5, 7], 'min_child_weight': [1, 3],\n",
       "                         'n_estimators': [10, 50, 100],\n",
       "                         'subsample': [0.5, 0.75, 1]},\n",
       "             pre_dispatch='2*n_jobs', refit='Accuracy',\n",
       "             return_train_score=False,\n",
       "             scoring={'AUC': 'roc_auc',\n",
       "                      'Accuracy': make_scorer(accuracy_score)},\n",
       "             verbose=1)"
      ]
     },
     "execution_count": 175,
     "metadata": {},
     "output_type": "execute_result"
    }
   ],
   "source": [
    "from xgboost import XGBClassifier\n",
    "from sklearn.metrics import make_scorer, accuracy_score, roc_curve\n",
    "\n",
    "\n",
    "param_test = {\n",
    "    'n_estimators': [10,50,100],\n",
    "    'max_depth': [3,5,7],\n",
    "    'min_child_weight': [1,3],\n",
    "    'gamma':[i/10.0 for i in range(0,5)],\n",
    "    'subsample':[0.5,0.75,1],\n",
    "    'colsample_bytree':[0.5,0.75,1],\n",
    "    'learning_rate': [0.01, 0.05, 0.1]\n",
    "}\n",
    "\n",
    "scoring = {'AUC': 'roc_auc', 'Accuracy': make_scorer(accuracy_score)}\n",
    "\n",
    "gs = GridSearchCV(estimator = XGBClassifier(), \n",
    "                       param_grid = param_test, \n",
    "                       scoring=scoring,\n",
    "                       iid=False,\n",
    "                       cv=5, \n",
    "                       verbose = 1, \n",
    "                       refit='Accuracy',\n",
    "                       n_jobs = -1)\n",
    "\n",
    "gs.fit(train_features, train_labels)"
   ]
  },
  {
   "cell_type": "code",
   "execution_count": 176,
   "metadata": {},
   "outputs": [
    {
     "name": "stdout",
     "output_type": "stream",
     "text": [
      "0.8193283976731888\n",
      "{'colsample_bytree': 1, 'gamma': 0.0, 'learning_rate': 0.01, 'max_depth': 3, 'min_child_weight': 3, 'n_estimators': 50, 'subsample': 1}\n"
     ]
    }
   ],
   "source": [
    "print(gs.best_score_)\n",
    "print(gs.best_params_)"
   ]
  },
  {
   "cell_type": "code",
   "execution_count": 180,
   "metadata": {},
   "outputs": [
    {
     "name": "stdout",
     "output_type": "stream",
     "text": [
      "Train/Test split results:\n",
      "XGBClassifier accuracy is 0.813\n",
      "XGBClassifier log_loss is 0.559\n",
      "XGBClassifier auc is 0.781\n"
     ]
    }
   ],
   "source": [
    "# train xBG model using the best_params_ from gridsearch\n",
    "from sklearn.metrics import make_scorer, accuracy_score, roc_curve,log_loss,auc\n",
    "# split into train and validate\n",
    "X_train, X_validate, y_train, y_validate = train_test_split(train_features, train_labels, test_size=0.2, random_state=3,stratify = y)\n",
    "\n",
    "# train xBG on train\n",
    "xGB = XGBClassifier(colsample_bytree=1, \n",
    "                             gamma=0.0,\n",
    "                             learning_rate=0.01,\n",
    "                             max_depth=3,\n",
    "                             min_child_weight=3,\n",
    "                             n_estimators=50,\n",
    "                             subsample = 1,\n",
    "                             n_jobs=-1)\n",
    "\n",
    "xGB.fit(X_train, y_train)\n",
    "\n",
    "# predict validate\n",
    "\n",
    "y_pred = xGB.predict(X_validate)\n",
    "y_pred_proba = xGB.predict_proba(X_validate)[:, 1]\n",
    "\n",
    "[fpr, tpr, thr] = roc_curve(y_validate, y_pred_proba)\n",
    "print('Train/Test split results:')\n",
    "print(xGB.__class__.__name__+\" accuracy is %2.3f\" % accuracy_score(y_validate, y_pred))\n",
    "print(xGB.__class__.__name__+\" log_loss is %2.3f\" % log_loss(y_validate, y_pred_proba))\n",
    "print(xGB.__class__.__name__+\" auc is %2.3f\" % auc(fpr, tpr))"
   ]
  },
  {
   "cell_type": "code",
   "execution_count": 181,
   "metadata": {},
   "outputs": [],
   "source": [
    "# output file\n",
    "pred_test = xGB.predict(test_mean_encoded)\n",
    "pred_test_df = pd.DataFrame()\n",
    "pred_test_df['Loan_ID'] = test['Loan_ID']\n",
    "pred_test_df['Loan_Status'] = np.vectorize(lambda s: 'Y' if s==1 else 'N')(pred_test)\n",
    "pred_test_df[['Loan_ID','Loan_Status']].to_csv('new_xGB_GSCV_encoded.csv',index=False)"
   ]
  }
 ],
 "metadata": {
  "kernelspec": {
   "display_name": "Python 3",
   "language": "python",
   "name": "python3"
  },
  "language_info": {
   "codemirror_mode": {
    "name": "ipython",
    "version": 3
   },
   "file_extension": ".py",
   "mimetype": "text/x-python",
   "name": "python",
   "nbconvert_exporter": "python",
   "pygments_lexer": "ipython3",
   "version": "3.7.3"
  }
 },
 "nbformat": 4,
 "nbformat_minor": 2
}
